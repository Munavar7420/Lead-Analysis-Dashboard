{
 "cells": [
  {
   "cell_type": "code",
   "execution_count": 60,
   "id": "326b71f8",
   "metadata": {},
   "outputs": [],
   "source": [
    "## Importing the required Python Libraries\n",
    "\n",
    "import pandas as pd\n",
    "import numpy as np\n",
    "import matplotlib.pyplot as plt\n",
    "import seaborn as sns"
   ]
  },
  {
   "cell_type": "markdown",
   "id": "286faf71",
   "metadata": {},
   "source": [
    "### Loading Datasets"
   ]
  },
  {
   "cell_type": "code",
   "execution_count": 61,
   "id": "dde6ac81",
   "metadata": {},
   "outputs": [],
   "source": [
    "# loading data from leads_basic_details.csv \n",
    "\n",
    "df1 = pd.read_csv(\"E:\\Masai Course(Data Anaytics)/Project/New folder/ed_tech details/leads_basic_details.csv\")\n",
    "\n",
    "# loading data from leads_demo_watched_details.csv \n",
    "\n",
    "df2 = pd.read_csv(\"E:\\Masai Course(Data Anaytics)/Project/New folder/ed_tech details/leads_demo_watched_details.csv\")\n",
    "\n",
    "# loading data from leads_interaction_details.csv \n",
    "\n",
    "df3 = pd.read_csv(\"E:\\Masai Course(Data Anaytics)/Project/New folder/ed_tech details/leads_interaction_details.csv\")\n",
    "\n",
    "# loading data from leads_reasons_for_no_interest.csv \n",
    "\n",
    "df4 = pd.read_csv(\"E:\\Masai Course(Data Anaytics)/Project/New folder/ed_tech details/leads_reasons_for_no_interest.csv\")\n",
    "\n",
    "# loading data from sales_managers_assigned_leads_details.csv \n",
    "\n",
    "df5 = pd.read_csv(\"E:\\Masai Course(Data Anaytics)/Project/New folder/ed_tech details/sales_managers_assigned_leads_details.csv\")\n"
   ]
  },
  {
   "cell_type": "markdown",
   "id": "581ab471",
   "metadata": {},
   "source": [
    "### Data Cleaning and Handling"
   ]
  },
  {
   "cell_type": "code",
   "execution_count": 62,
   "id": "f7432246",
   "metadata": {},
   "outputs": [
    {
     "name": "stdout",
     "output_type": "stream",
     "text": [
      "*** SHAPE OF DATASETS ***\n",
      "\n",
      "leads_basic_details:  (360, 7)\n",
      "leads_demo_watched_details (194, 4)\n",
      "leads_interaction_details (2192, 6)\n",
      "leads_reasons_for_no_interest (294, 4)\n",
      "sales_managers_assigned_leads_details (360, 5)\n"
     ]
    }
   ],
   "source": [
    "print('*** SHAPE OF DATASETS ***\\n')\n",
    "print('leads_basic_details: ', df1.shape)\n",
    "print('leads_demo_watched_details', df2.shape)\n",
    "print('leads_interaction_details', df3.shape)\n",
    "print('leads_reasons_for_no_interest', df4.shape)\n",
    "print('sales_managers_assigned_leads_details', df5.shape)"
   ]
  },
  {
   "cell_type": "code",
   "execution_count": 63,
   "id": "a97ca76f",
   "metadata": {},
   "outputs": [
    {
     "name": "stdout",
     "output_type": "stream",
     "text": [
      "*** DUPLICATES COUNT ***\n",
      "\n",
      "leads_basic_details:  0\n",
      "leads_demo_watched_details:  0\n",
      "leads_interaction_details:  438\n",
      "leads_reasons_for_no_interest:  0\n",
      "sales_managers_assigned_leads_details:  0\n"
     ]
    }
   ],
   "source": [
    "print('*** DUPLICATES COUNT ***\\n')\n",
    "print('leads_basic_details: ', df1.duplicated().sum())\n",
    "print('leads_demo_watched_details: ', df2.duplicated().sum())\n",
    "print('leads_interaction_details: ', df3.duplicated().sum())\n",
    "print('leads_reasons_for_no_interest: ', df4.duplicated().sum())\n",
    "print('sales_managers_assigned_leads_details: ', df5.duplicated().sum())"
   ]
  },
  {
   "cell_type": "code",
   "execution_count": 64,
   "id": "003f9444",
   "metadata": {},
   "outputs": [
    {
     "name": "stdout",
     "output_type": "stream",
     "text": [
      "leads_interaction_details:  0\n"
     ]
    }
   ],
   "source": [
    "df3.drop_duplicates(inplace=True)\n",
    "print('leads_interaction_details: ', df3.duplicated().sum())"
   ]
  },
  {
   "cell_type": "code",
   "execution_count": 65,
   "id": "5b382d2d",
   "metadata": {},
   "outputs": [
    {
     "name": "stdout",
     "output_type": "stream",
     "text": [
      "*** NULL VALUE COUNT ***\n",
      "\n",
      "\n",
      "leads_basic_details:\n",
      "\n",
      " lead_id              0\n",
      "age                  0\n",
      "gender               0\n",
      "current_city         0\n",
      "current_education    0\n",
      "parent_occupation    0\n",
      "lead_gen_source      0\n",
      "dtype: int64\n",
      "\n",
      "leads_demo_watched_details:\n",
      "\n",
      " lead_id               0\n",
      "demo_watched_date     0\n",
      "language              0\n",
      "watched_percentage    0\n",
      "dtype: int64\n",
      "\n",
      "leads_interaction_details:\n",
      "\n",
      " jnr_sm_id         0\n",
      "lead_id           0\n",
      "lead_stage        0\n",
      "call_done_date    0\n",
      "call_status       0\n",
      "call_reason       0\n",
      "dtype: int64\n",
      "\n",
      "leads_reasons_for_no_interest:\n",
      "\n",
      " lead_id                                     0\n",
      "reasons_for_not_interested_in_demo        130\n",
      "reasons_for_not_interested_to_consider    215\n",
      "reasons_for_not_interested_to_convert     243\n",
      "dtype: int64\n",
      "\n",
      "sales_managers_assigned_leads_details:\n",
      "\n",
      " snr_sm_id        0\n",
      "jnr_sm_id        0\n",
      "assigned_date    0\n",
      "cycle            0\n",
      "lead_id          0\n",
      "dtype: int64\n"
     ]
    }
   ],
   "source": [
    "## To find Null values\n",
    "\n",
    "print('*** NULL VALUE COUNT ***\\n')\n",
    "\n",
    "print('\\nleads_basic_details:\\n\\n', df1.isnull().sum())\n",
    "print('\\nleads_demo_watched_details:\\n\\n', df2.isnull().sum())\n",
    "print('\\nleads_interaction_details:\\n\\n', df3.isnull().sum())\n",
    "print('\\nleads_reasons_for_no_interest:\\n\\n', df4.isnull().sum())\n",
    "print('\\nsales_managers_assigned_leads_details:\\n\\n', df5.isnull().sum())"
   ]
  },
  {
   "cell_type": "markdown",
   "id": "bb72760b",
   "metadata": {},
   "source": [
    "### DataFrame - df1"
   ]
  },
  {
   "cell_type": "code",
   "execution_count": 66,
   "id": "766e5b79",
   "metadata": {},
   "outputs": [
    {
     "name": "stdout",
     "output_type": "stream",
     "text": [
      "<class 'pandas.core.frame.DataFrame'>\n",
      "RangeIndex: 360 entries, 0 to 359\n",
      "Data columns (total 7 columns):\n",
      " #   Column             Non-Null Count  Dtype \n",
      "---  ------             --------------  ----- \n",
      " 0   lead_id            360 non-null    object\n",
      " 1   age                360 non-null    int64 \n",
      " 2   gender             360 non-null    object\n",
      " 3   current_city       360 non-null    object\n",
      " 4   current_education  360 non-null    object\n",
      " 5   parent_occupation  360 non-null    object\n",
      " 6   lead_gen_source    360 non-null    object\n",
      "dtypes: int64(1), object(6)\n",
      "memory usage: 19.8+ KB\n"
     ]
    }
   ],
   "source": [
    "df1.info()"
   ]
  },
  {
   "cell_type": "code",
   "execution_count": 67,
   "id": "57014587",
   "metadata": {},
   "outputs": [
    {
     "data": {
      "text/html": [
       "<div>\n",
       "<style scoped>\n",
       "    .dataframe tbody tr th:only-of-type {\n",
       "        vertical-align: middle;\n",
       "    }\n",
       "\n",
       "    .dataframe tbody tr th {\n",
       "        vertical-align: top;\n",
       "    }\n",
       "\n",
       "    .dataframe thead th {\n",
       "        text-align: right;\n",
       "    }\n",
       "</style>\n",
       "<table border=\"1\" class=\"dataframe\">\n",
       "  <thead>\n",
       "    <tr style=\"text-align: right;\">\n",
       "      <th></th>\n",
       "      <th>age</th>\n",
       "    </tr>\n",
       "  </thead>\n",
       "  <tbody>\n",
       "    <tr>\n",
       "      <th>count</th>\n",
       "      <td>360.000000</td>\n",
       "    </tr>\n",
       "    <tr>\n",
       "      <th>mean</th>\n",
       "      <td>21.561111</td>\n",
       "    </tr>\n",
       "    <tr>\n",
       "      <th>std</th>\n",
       "      <td>11.555444</td>\n",
       "    </tr>\n",
       "    <tr>\n",
       "      <th>min</th>\n",
       "      <td>16.000000</td>\n",
       "    </tr>\n",
       "    <tr>\n",
       "      <th>25%</th>\n",
       "      <td>18.000000</td>\n",
       "    </tr>\n",
       "    <tr>\n",
       "      <th>50%</th>\n",
       "      <td>21.000000</td>\n",
       "    </tr>\n",
       "    <tr>\n",
       "      <th>75%</th>\n",
       "      <td>24.000000</td>\n",
       "    </tr>\n",
       "    <tr>\n",
       "      <th>max</th>\n",
       "      <td>211.000000</td>\n",
       "    </tr>\n",
       "  </tbody>\n",
       "</table>\n",
       "</div>"
      ],
      "text/plain": [
       "              age\n",
       "count  360.000000\n",
       "mean    21.561111\n",
       "std     11.555444\n",
       "min     16.000000\n",
       "25%     18.000000\n",
       "50%     21.000000\n",
       "75%     24.000000\n",
       "max    211.000000"
      ]
     },
     "execution_count": 67,
     "metadata": {},
     "output_type": "execute_result"
    }
   ],
   "source": [
    "df1.describe()"
   ]
  },
  {
   "cell_type": "code",
   "execution_count": 68,
   "id": "46ca4b8d",
   "metadata": {},
   "outputs": [
    {
     "data": {
      "image/png": "[encoded data removed]",
      "text/plain": [
       "<Figure size 936x360 with 1 Axes>"
      ]
     },
     "metadata": {
      "needs_background": "light"
     },
     "output_type": "display_data"
    }
   ],
   "source": [
    "## Finding Outliners\n",
    "\n",
    "plt.figure(figsize=(13,5))\n",
    "plt.suptitle(\"Distribution of age\", fontsize= 25, fontweight = 5, color = 'blue')\n",
    "Range1 = np.arange(0,200,20)\n",
    "\n",
    "label = [\"{}\".format(i) for i in Range1]\n",
    "\n",
    "plt.yticks(Range1,label)\n",
    "sns.boxplot(y=df1.age)\n",
    "\n",
    "plt.show()"
   ]
  },
  {
   "cell_type": "code",
   "execution_count": 69,
   "id": "6bc39749",
   "metadata": {},
   "outputs": [
    {
     "data": {
      "text/html": [
       "<div>\n",
       "<style scoped>\n",
       "    .dataframe tbody tr th:only-of-type {\n",
       "        vertical-align: middle;\n",
       "    }\n",
       "\n",
       "    .dataframe tbody tr th {\n",
       "        vertical-align: top;\n",
       "    }\n",
       "\n",
       "    .dataframe thead th {\n",
       "        text-align: right;\n",
       "    }\n",
       "</style>\n",
       "<table border=\"1\" class=\"dataframe\">\n",
       "  <thead>\n",
       "    <tr style=\"text-align: right;\">\n",
       "      <th></th>\n",
       "      <th>lead_id</th>\n",
       "      <th>age</th>\n",
       "      <th>gender</th>\n",
       "      <th>current_city</th>\n",
       "      <th>current_education</th>\n",
       "      <th>parent_occupation</th>\n",
       "      <th>lead_gen_source</th>\n",
       "    </tr>\n",
       "  </thead>\n",
       "  <tbody>\n",
       "    <tr>\n",
       "      <th>17</th>\n",
       "      <td>USR1018</td>\n",
       "      <td>211</td>\n",
       "      <td>MALE</td>\n",
       "      <td>Hyderabad</td>\n",
       "      <td>Degree</td>\n",
       "      <td>IT Employee</td>\n",
       "      <td>social_media</td>\n",
       "    </tr>\n",
       "    <tr>\n",
       "      <th>300</th>\n",
       "      <td>USR1301</td>\n",
       "      <td>116</td>\n",
       "      <td>FEMALE</td>\n",
       "      <td>Hyderabad</td>\n",
       "      <td>Intermediate</td>\n",
       "      <td>Private Employee</td>\n",
       "      <td>social_media</td>\n",
       "    </tr>\n",
       "  </tbody>\n",
       "</table>\n",
       "</div>"
      ],
      "text/plain": [
       "     lead_id  age  gender current_city current_education parent_occupation  \\\n",
       "17   USR1018  211    MALE    Hyderabad            Degree       IT Employee   \n",
       "300  USR1301  116  FEMALE    Hyderabad      Intermediate  Private Employee   \n",
       "\n",
       "    lead_gen_source  \n",
       "17     social_media  \n",
       "300    social_media  "
      ]
     },
     "execution_count": 69,
     "metadata": {},
     "output_type": "execute_result"
    }
   ],
   "source": [
    "## Seperating values greater than 90 percentile as outliers and storing into a different dataset. \n",
    "\n",
    "df1_outlier = df1[df1.age>df1.age.quantile(0.90)]\n",
    "\n",
    "## Displaying the outliers\n",
    "\n",
    "df1_outlier"
   ]
  },
  {
   "cell_type": "code",
   "execution_count": 70,
   "id": "483856d4",
   "metadata": {},
   "outputs": [],
   "source": [
    "## Removing the outliers for df1 dataset\n",
    "\n",
    "df1 = df1.drop([df1_outlier.index[0] , df1_outlier.index[1]])"
   ]
  },
  {
   "cell_type": "code",
   "execution_count": 71,
   "id": "c1cd2227",
   "metadata": {},
   "outputs": [
    {
     "data": {
      "text/plain": [
       "(358, 7)"
      ]
     },
     "execution_count": 71,
     "metadata": {},
     "output_type": "execute_result"
    }
   ],
   "source": [
    "df1.shape\n"
   ]
  },
  {
   "cell_type": "code",
   "execution_count": 72,
   "id": "4aba42a4",
   "metadata": {},
   "outputs": [
    {
     "data": {
      "image/png": "[encoded data removed]",
      "text/plain": [
       "<Figure size 936x360 with 1 Axes>"
      ]
     },
     "metadata": {
      "needs_background": "light"
     },
     "output_type": "display_data"
    }
   ],
   "source": [
    "## Re-plotting age distribution after handling the outliers\n",
    "\n",
    "plt.figure(figsize=(13,5))\n",
    "plt.suptitle(\"Distribution of age\", fontsize= 25, fontweight = 5, color = 'blue')\n",
    "Range1 = np.arange(0,200,20)\n",
    "\n",
    "label = [\"{}\".format(i) for i in Range1]\n",
    "\n",
    "plt.yticks(Range1,label)\n",
    "sns.boxplot(y=df1.age)\n",
    "\n",
    "plt.show()"
   ]
  },
  {
   "cell_type": "code",
   "execution_count": 73,
   "id": "2d0e4618",
   "metadata": {},
   "outputs": [
    {
     "data": {
      "text/plain": [
       "FEMALE    198\n",
       "MALE      160\n",
       "Name: gender, dtype: int64"
      ]
     },
     "execution_count": 73,
     "metadata": {},
     "output_type": "execute_result"
    }
   ],
   "source": [
    "## gender wise value count\n",
    "\n",
    "df1.gender.value_counts()"
   ]
  },
  {
   "cell_type": "code",
   "execution_count": 74,
   "id": "e3da4a1e",
   "metadata": {},
   "outputs": [
    {
     "data": {
      "text/plain": [
       "Index(['lead_id', 'age', 'gender', 'current_city', 'current_education',\n",
       "       'parent_occupation', 'lead_gen_source'],\n",
       "      dtype='object')"
      ]
     },
     "execution_count": 74,
     "metadata": {},
     "output_type": "execute_result"
    }
   ],
   "source": [
    "df1.columns"
   ]
  },
  {
   "cell_type": "code",
   "execution_count": 75,
   "id": "9a1a4c0c",
   "metadata": {},
   "outputs": [
    {
     "data": {
      "text/plain": [
       "B.Tech                    139\n",
       "Looking for Job           117\n",
       "Degree                     42\n",
       "Intermediate               40\n",
       "Intermediate Completed     12\n",
       "10th Completed              8\n",
       "Name: current_education, dtype: int64"
      ]
     },
     "execution_count": 75,
     "metadata": {},
     "output_type": "execute_result"
    }
   ],
   "source": [
    "df1.current_education.value_counts()"
   ]
  },
  {
   "cell_type": "code",
   "execution_count": 76,
   "id": "eed7be3d",
   "metadata": {},
   "outputs": [],
   "source": [
    "##  replace intermediate completed value name with intermediate\n",
    "\n",
    "df1['current_education'].replace({'Intermediate Completed':'Intermediate'}, inplace=True)"
   ]
  },
  {
   "cell_type": "markdown",
   "id": "f005327c",
   "metadata": {},
   "source": [
    "### DataFrame - df2"
   ]
  },
  {
   "cell_type": "code",
   "execution_count": 77,
   "id": "bced6eb0",
   "metadata": {},
   "outputs": [
    {
     "name": "stdout",
     "output_type": "stream",
     "text": [
      "<class 'pandas.core.frame.DataFrame'>\n",
      "RangeIndex: 194 entries, 0 to 193\n",
      "Data columns (total 4 columns):\n",
      " #   Column              Non-Null Count  Dtype \n",
      "---  ------              --------------  ----- \n",
      " 0   lead_id             194 non-null    object\n",
      " 1   demo_watched_date   194 non-null    object\n",
      " 2   language            194 non-null    object\n",
      " 3   watched_percentage  194 non-null    int64 \n",
      "dtypes: int64(1), object(3)\n",
      "memory usage: 6.2+ KB\n"
     ]
    }
   ],
   "source": [
    "df2.info()"
   ]
  },
  {
   "cell_type": "code",
   "execution_count": 78,
   "id": "792bd58c",
   "metadata": {},
   "outputs": [
    {
     "data": {
      "text/html": [
       "<div>\n",
       "<style scoped>\n",
       "    .dataframe tbody tr th:only-of-type {\n",
       "        vertical-align: middle;\n",
       "    }\n",
       "\n",
       "    .dataframe tbody tr th {\n",
       "        vertical-align: top;\n",
       "    }\n",
       "\n",
       "    .dataframe thead th {\n",
       "        text-align: right;\n",
       "    }\n",
       "</style>\n",
       "<table border=\"1\" class=\"dataframe\">\n",
       "  <thead>\n",
       "    <tr style=\"text-align: right;\">\n",
       "      <th></th>\n",
       "      <th>watched_percentage</th>\n",
       "    </tr>\n",
       "  </thead>\n",
       "  <tbody>\n",
       "    <tr>\n",
       "      <th>count</th>\n",
       "      <td>194.000000</td>\n",
       "    </tr>\n",
       "    <tr>\n",
       "      <th>mean</th>\n",
       "      <td>56.634021</td>\n",
       "    </tr>\n",
       "    <tr>\n",
       "      <th>std</th>\n",
       "      <td>43.555635</td>\n",
       "    </tr>\n",
       "    <tr>\n",
       "      <th>min</th>\n",
       "      <td>2.000000</td>\n",
       "    </tr>\n",
       "    <tr>\n",
       "      <th>25%</th>\n",
       "      <td>35.000000</td>\n",
       "    </tr>\n",
       "    <tr>\n",
       "      <th>50%</th>\n",
       "      <td>55.500000</td>\n",
       "    </tr>\n",
       "    <tr>\n",
       "      <th>75%</th>\n",
       "      <td>75.750000</td>\n",
       "    </tr>\n",
       "    <tr>\n",
       "      <th>max</th>\n",
       "      <td>510.000000</td>\n",
       "    </tr>\n",
       "  </tbody>\n",
       "</table>\n",
       "</div>"
      ],
      "text/plain": [
       "       watched_percentage\n",
       "count          194.000000\n",
       "mean            56.634021\n",
       "std             43.555635\n",
       "min              2.000000\n",
       "25%             35.000000\n",
       "50%             55.500000\n",
       "75%             75.750000\n",
       "max            510.000000"
      ]
     },
     "execution_count": 78,
     "metadata": {},
     "output_type": "execute_result"
    }
   ],
   "source": [
    "df2.describe()"
   ]
  },
  {
   "cell_type": "code",
   "execution_count": 79,
   "id": "527757a3",
   "metadata": {},
   "outputs": [
    {
     "data": {
      "image/png": "[encoded data removed]",
      "text/plain": [
       "<Figure size 936x360 with 1 Axes>"
      ]
     },
     "metadata": {
      "needs_background": "light"
     },
     "output_type": "display_data"
    }
   ],
   "source": [
    "## Finding Outliners\n",
    "\n",
    "plt.figure(figsize=(13,5))\n",
    "plt.suptitle(\"Distribution of Watched_Percentage\", fontsize= 25, fontweight = 5, color = 'blue')\n",
    "\n",
    "Range2 = np.arange(0,200,20)\n",
    "label = [\"{}\".format(i) for i in Range2]\n",
    "\n",
    "plt.yticks(Range2,label)\n",
    "sns.boxplot(y=df2.watched_percentage)\n",
    "\n",
    "plt.show()"
   ]
  },
  {
   "cell_type": "code",
   "execution_count": 80,
   "id": "2c252a3e",
   "metadata": {},
   "outputs": [
    {
     "data": {
      "text/html": [
       "<div>\n",
       "<style scoped>\n",
       "    .dataframe tbody tr th:only-of-type {\n",
       "        vertical-align: middle;\n",
       "    }\n",
       "\n",
       "    .dataframe tbody tr th {\n",
       "        vertical-align: top;\n",
       "    }\n",
       "\n",
       "    .dataframe thead th {\n",
       "        text-align: right;\n",
       "    }\n",
       "</style>\n",
       "<table border=\"1\" class=\"dataframe\">\n",
       "  <thead>\n",
       "    <tr style=\"text-align: right;\">\n",
       "      <th></th>\n",
       "      <th>lead_id</th>\n",
       "      <th>demo_watched_date</th>\n",
       "      <th>language</th>\n",
       "      <th>watched_percentage</th>\n",
       "    </tr>\n",
       "  </thead>\n",
       "  <tbody>\n",
       "    <tr>\n",
       "      <th>94</th>\n",
       "      <td>USR1138</td>\n",
       "      <td>2/20/2022</td>\n",
       "      <td>English</td>\n",
       "      <td>510</td>\n",
       "    </tr>\n",
       "    <tr>\n",
       "      <th>133</th>\n",
       "      <td>USR1213</td>\n",
       "      <td>1/20/2022</td>\n",
       "      <td>Telugu</td>\n",
       "      <td>233</td>\n",
       "    </tr>\n",
       "  </tbody>\n",
       "</table>\n",
       "</div>"
      ],
      "text/plain": [
       "     lead_id demo_watched_date language  watched_percentage\n",
       "94   USR1138         2/20/2022  English                 510\n",
       "133  USR1213         1/20/2022   Telugu                 233"
      ]
     },
     "execution_count": 80,
     "metadata": {},
     "output_type": "execute_result"
    }
   ],
   "source": [
    "## Identifying outliers whose watched percentage is beyond 100\n",
    "\n",
    "df2_outlier = df2[df2.watched_percentage>100]\n",
    "\n",
    "## Displaying the outliers\n",
    "\n",
    "df2_outlier"
   ]
  },
  {
   "cell_type": "code",
   "execution_count": 81,
   "id": "137bd4a6",
   "metadata": {},
   "outputs": [],
   "source": [
    "# Removing the outliers from df2 dataset\n",
    "df2 = df2.drop([df2_outlier.index[0] , df2_outlier.index[1]])\n"
   ]
  },
  {
   "cell_type": "code",
   "execution_count": 82,
   "id": "38a0ab25",
   "metadata": {},
   "outputs": [
    {
     "data": {
      "text/plain": [
       "(192, 4)"
      ]
     },
     "execution_count": 82,
     "metadata": {},
     "output_type": "execute_result"
    }
   ],
   "source": [
    "df2.shape"
   ]
  },
  {
   "cell_type": "code",
   "execution_count": 83,
   "id": "7b725761",
   "metadata": {},
   "outputs": [
    {
     "data": {
      "image/png": "[encoded data removed]",
      "text/plain": [
       "<Figure size 936x360 with 1 Axes>"
      ]
     },
     "metadata": {
      "needs_background": "light"
     },
     "output_type": "display_data"
    }
   ],
   "source": [
    "## Plotting watched percentage after handling outliers\n",
    "\n",
    "plt.figure(figsize=(13,5))\n",
    "plt.suptitle(\"Distribution of Watched_Percentage\", fontsize= 25, fontweight = 5, color = 'blue')\n",
    "\n",
    "Range2 = np.arange(0,200,20)\n",
    "label = [\"{}\".format(i) for i in Range2]\n",
    "\n",
    "plt.yticks(Range2,label)\n",
    "sns.boxplot(y=df2.watched_percentage)\n",
    "\n",
    "plt.show()"
   ]
  },
  {
   "cell_type": "code",
   "execution_count": 84,
   "id": "c9193872",
   "metadata": {},
   "outputs": [],
   "source": [
    "df2 = df2.drop(['demo_watched_date'], axis=1)"
   ]
  },
  {
   "cell_type": "code",
   "execution_count": 85,
   "id": "21b6dad3",
   "metadata": {},
   "outputs": [
    {
     "data": {
      "text/html": [
       "<div>\n",
       "<style scoped>\n",
       "    .dataframe tbody tr th:only-of-type {\n",
       "        vertical-align: middle;\n",
       "    }\n",
       "\n",
       "    .dataframe tbody tr th {\n",
       "        vertical-align: top;\n",
       "    }\n",
       "\n",
       "    .dataframe thead th {\n",
       "        text-align: right;\n",
       "    }\n",
       "</style>\n",
       "<table border=\"1\" class=\"dataframe\">\n",
       "  <thead>\n",
       "    <tr style=\"text-align: right;\">\n",
       "      <th></th>\n",
       "      <th>lead_id</th>\n",
       "      <th>language</th>\n",
       "      <th>watched_percentage</th>\n",
       "    </tr>\n",
       "  </thead>\n",
       "  <tbody>\n",
       "    <tr>\n",
       "      <th>0</th>\n",
       "      <td>USR1002</td>\n",
       "      <td>Telugu</td>\n",
       "      <td>42</td>\n",
       "    </tr>\n",
       "    <tr>\n",
       "      <th>1</th>\n",
       "      <td>USR1003</td>\n",
       "      <td>Telugu</td>\n",
       "      <td>81</td>\n",
       "    </tr>\n",
       "    <tr>\n",
       "      <th>2</th>\n",
       "      <td>USR1004</td>\n",
       "      <td>Telugu</td>\n",
       "      <td>35</td>\n",
       "    </tr>\n",
       "    <tr>\n",
       "      <th>3</th>\n",
       "      <td>USR1005</td>\n",
       "      <td>Hindi</td>\n",
       "      <td>38</td>\n",
       "    </tr>\n",
       "    <tr>\n",
       "      <th>4</th>\n",
       "      <td>USR1006</td>\n",
       "      <td>Hindi</td>\n",
       "      <td>54</td>\n",
       "    </tr>\n",
       "    <tr>\n",
       "      <th>...</th>\n",
       "      <td>...</td>\n",
       "      <td>...</td>\n",
       "      <td>...</td>\n",
       "    </tr>\n",
       "    <tr>\n",
       "      <th>189</th>\n",
       "      <td>USR1317</td>\n",
       "      <td>English</td>\n",
       "      <td>48</td>\n",
       "    </tr>\n",
       "    <tr>\n",
       "      <th>190</th>\n",
       "      <td>USR1318</td>\n",
       "      <td>English</td>\n",
       "      <td>83</td>\n",
       "    </tr>\n",
       "    <tr>\n",
       "      <th>191</th>\n",
       "      <td>USR1319</td>\n",
       "      <td>English</td>\n",
       "      <td>84</td>\n",
       "    </tr>\n",
       "    <tr>\n",
       "      <th>192</th>\n",
       "      <td>USR1343</td>\n",
       "      <td>English</td>\n",
       "      <td>68</td>\n",
       "    </tr>\n",
       "    <tr>\n",
       "      <th>193</th>\n",
       "      <td>USR1348</td>\n",
       "      <td>English</td>\n",
       "      <td>72</td>\n",
       "    </tr>\n",
       "  </tbody>\n",
       "</table>\n",
       "<p>192 rows × 3 columns</p>\n",
       "</div>"
      ],
      "text/plain": [
       "     lead_id language  watched_percentage\n",
       "0    USR1002   Telugu                  42\n",
       "1    USR1003   Telugu                  81\n",
       "2    USR1004   Telugu                  35\n",
       "3    USR1005    Hindi                  38\n",
       "4    USR1006    Hindi                  54\n",
       "..       ...      ...                 ...\n",
       "189  USR1317  English                  48\n",
       "190  USR1318  English                  83\n",
       "191  USR1319  English                  84\n",
       "192  USR1343  English                  68\n",
       "193  USR1348  English                  72\n",
       "\n",
       "[192 rows x 3 columns]"
      ]
     },
     "execution_count": 85,
     "metadata": {},
     "output_type": "execute_result"
    }
   ],
   "source": [
    "df2"
   ]
  },
  {
   "cell_type": "code",
   "execution_count": 89,
   "id": "0874c9b7",
   "metadata": {},
   "outputs": [
    {
     "data": {
      "text/plain": [
       "array(['Telugu', 'Hindi', 'English'], dtype=object)"
      ]
     },
     "execution_count": 89,
     "metadata": {},
     "output_type": "execute_result"
    }
   ],
   "source": [
    "df2['language'].unique()"
   ]
  },
  {
   "cell_type": "markdown",
   "id": "815bfc53",
   "metadata": {},
   "source": [
    "### DataFrame - df3 "
   ]
  },
  {
   "cell_type": "code",
   "execution_count": 90,
   "id": "d6f66339",
   "metadata": {},
   "outputs": [
    {
     "name": "stdout",
     "output_type": "stream",
     "text": [
      "<class 'pandas.core.frame.DataFrame'>\n",
      "Int64Index: 1754 entries, 0 to 2191\n",
      "Data columns (total 6 columns):\n",
      " #   Column          Non-Null Count  Dtype \n",
      "---  ------          --------------  ----- \n",
      " 0   jnr_sm_id       1754 non-null   object\n",
      " 1   lead_id         1754 non-null   object\n",
      " 2   lead_stage      1754 non-null   object\n",
      " 3   call_done_date  1754 non-null   object\n",
      " 4   call_status     1754 non-null   object\n",
      " 5   call_reason     1754 non-null   object\n",
      "dtypes: object(6)\n",
      "memory usage: 95.9+ KB\n"
     ]
    }
   ],
   "source": [
    "df3.info()"
   ]
  },
  {
   "cell_type": "code",
   "execution_count": 91,
   "id": "66986c43",
   "metadata": {},
   "outputs": [
    {
     "data": {
      "text/html": [
       "<div>\n",
       "<style scoped>\n",
       "    .dataframe tbody tr th:only-of-type {\n",
       "        vertical-align: middle;\n",
       "    }\n",
       "\n",
       "    .dataframe tbody tr th {\n",
       "        vertical-align: top;\n",
       "    }\n",
       "\n",
       "    .dataframe thead th {\n",
       "        text-align: right;\n",
       "    }\n",
       "</style>\n",
       "<table border=\"1\" class=\"dataframe\">\n",
       "  <thead>\n",
       "    <tr style=\"text-align: right;\">\n",
       "      <th></th>\n",
       "      <th>jnr_sm_id</th>\n",
       "      <th>lead_id</th>\n",
       "      <th>lead_stage</th>\n",
       "      <th>call_status</th>\n",
       "      <th>call_reason</th>\n",
       "    </tr>\n",
       "  </thead>\n",
       "  <tbody>\n",
       "    <tr>\n",
       "      <th>0</th>\n",
       "      <td>JNR1001MG</td>\n",
       "      <td>USR1001</td>\n",
       "      <td>lead</td>\n",
       "      <td>successful</td>\n",
       "      <td>lead_introduction</td>\n",
       "    </tr>\n",
       "    <tr>\n",
       "      <th>1</th>\n",
       "      <td>JNR1001MG</td>\n",
       "      <td>USR1001</td>\n",
       "      <td>lead</td>\n",
       "      <td>successful</td>\n",
       "      <td>demo_schedule</td>\n",
       "    </tr>\n",
       "    <tr>\n",
       "      <th>2</th>\n",
       "      <td>JNR1001MG</td>\n",
       "      <td>USR1002</td>\n",
       "      <td>lead</td>\n",
       "      <td>successful</td>\n",
       "      <td>lead_introduction</td>\n",
       "    </tr>\n",
       "    <tr>\n",
       "      <th>3</th>\n",
       "      <td>JNR1001MG</td>\n",
       "      <td>USR1002</td>\n",
       "      <td>lead</td>\n",
       "      <td>successful</td>\n",
       "      <td>demo_schedule</td>\n",
       "    </tr>\n",
       "    <tr>\n",
       "      <th>4</th>\n",
       "      <td>JNR1001MG</td>\n",
       "      <td>USR1002</td>\n",
       "      <td>awareness</td>\n",
       "      <td>successful</td>\n",
       "      <td>post_demo_followup</td>\n",
       "    </tr>\n",
       "  </tbody>\n",
       "</table>\n",
       "</div>"
      ],
      "text/plain": [
       "   jnr_sm_id  lead_id lead_stage call_status         call_reason\n",
       "0  JNR1001MG  USR1001       lead  successful   lead_introduction\n",
       "1  JNR1001MG  USR1001       lead  successful       demo_schedule\n",
       "2  JNR1001MG  USR1002       lead  successful   lead_introduction\n",
       "3  JNR1001MG  USR1002       lead  successful       demo_schedule\n",
       "4  JNR1001MG  USR1002  awareness  successful  post_demo_followup"
      ]
     },
     "execution_count": 91,
     "metadata": {},
     "output_type": "execute_result"
    }
   ],
   "source": [
    "df3 = df3.drop(['call_done_date'], axis=1)\n",
    "df3.head()"
   ]
  },
  {
   "cell_type": "code",
   "execution_count": 92,
   "id": "c69454ff",
   "metadata": {},
   "outputs": [
    {
     "name": "stdout",
     "output_type": "stream",
     "text": [
      "11\n"
     ]
    }
   ],
   "source": [
    "## Identify Duplicate values\n",
    "\n",
    "print(df3.duplicated().sum())"
   ]
  },
  {
   "cell_type": "code",
   "execution_count": 93,
   "id": "f74a529d",
   "metadata": {},
   "outputs": [],
   "source": [
    "## drop duplicates\n",
    "\n",
    "df3.drop_duplicates(inplace=True)"
   ]
  },
  {
   "cell_type": "code",
   "execution_count": 94,
   "id": "2c7c49c8",
   "metadata": {},
   "outputs": [
    {
     "data": {
      "text/plain": [
       "lead             1196\n",
       "consideration     254\n",
       "awareness         229\n",
       "conversion         64\n",
       "Name: lead_stage, dtype: int64"
      ]
     },
     "execution_count": 94,
     "metadata": {},
     "output_type": "execute_result"
    }
   ],
   "source": [
    "df3.lead_stage.value_counts()"
   ]
  },
  {
   "cell_type": "code",
   "execution_count": 95,
   "id": "39acf129",
   "metadata": {},
   "outputs": [],
   "source": [
    "## Renaming the stages according the the last stage each lead was in.\n",
    "\n",
    "df3['lead_stage'].replace({'lead':'Lead Stage',\n",
    "                           'lead-awareness': 'Awareness Stage',\n",
    "                           'lead-awareness-consideration':'Consideration Stage', \n",
    "                           'lead-awareness-consideration-conversion':'Conversion Stage' }, inplace=True)"
   ]
  },
  {
   "cell_type": "code",
   "execution_count": 96,
   "id": "c03f48c6",
   "metadata": {},
   "outputs": [
    {
     "data": {
      "text/plain": [
       "Lead Stage       1196\n",
       "consideration     254\n",
       "awareness         229\n",
       "conversion         64\n",
       "Name: lead_stage, dtype: int64"
      ]
     },
     "execution_count": 96,
     "metadata": {},
     "output_type": "execute_result"
    }
   ],
   "source": [
    "## Verifying count of leads in each stage\n",
    "\n",
    "df3.lead_stage.value_counts()"
   ]
  },
  {
   "cell_type": "code",
   "execution_count": null,
   "id": "80457f2f",
   "metadata": {},
   "outputs": [],
   "source": []
  },
  {
   "cell_type": "markdown",
   "id": "0abba5f7",
   "metadata": {},
   "source": [
    "### DataFrame - df4"
   ]
  },
  {
   "cell_type": "code",
   "execution_count": 97,
   "id": "ed9473e0",
   "metadata": {},
   "outputs": [
    {
     "name": "stdout",
     "output_type": "stream",
     "text": [
      "<class 'pandas.core.frame.DataFrame'>\n",
      "RangeIndex: 294 entries, 0 to 293\n",
      "Data columns (total 4 columns):\n",
      " #   Column                                  Non-Null Count  Dtype \n",
      "---  ------                                  --------------  ----- \n",
      " 0   lead_id                                 294 non-null    object\n",
      " 1   reasons_for_not_interested_in_demo      164 non-null    object\n",
      " 2   reasons_for_not_interested_to_consider  79 non-null     object\n",
      " 3   reasons_for_not_interested_to_convert   51 non-null     object\n",
      "dtypes: object(4)\n",
      "memory usage: 9.3+ KB\n"
     ]
    }
   ],
   "source": [
    "df4.info()"
   ]
  },
  {
   "cell_type": "code",
   "execution_count": 98,
   "id": "2dc08b14",
   "metadata": {},
   "outputs": [],
   "source": [
    "# Replacing Null values with an empty string\n",
    "\n",
    "df4['reasons_for_not_interested_in_demo'] = df4['reasons_for_not_interested_in_demo'].fillna('')\n",
    "df4['reasons_for_not_interested_to_consider'] = df4['reasons_for_not_interested_to_consider'].fillna('')\n",
    "df4['reasons_for_not_interested_to_convert'] = df4['reasons_for_not_interested_to_convert'].fillna('')"
   ]
  },
  {
   "cell_type": "code",
   "execution_count": 99,
   "id": "24caec20",
   "metadata": {},
   "outputs": [],
   "source": [
    "# Combine all the values in the existing columns and store them in the new column.\n",
    "\n",
    "df4['Reason_for_not_interested'] = df4['reasons_for_not_interested_in_demo'] + df4['reasons_for_not_interested_to_consider'] + df4['reasons_for_not_interested_to_convert']"
   ]
  },
  {
   "cell_type": "code",
   "execution_count": 100,
   "id": "31a7acda",
   "metadata": {},
   "outputs": [],
   "source": [
    "# Drop the redundant columns that are no longer required for analysis\n",
    "\n",
    "df4 = df4.drop(['reasons_for_not_interested_in_demo','reasons_for_not_interested_to_consider', 'reasons_for_not_interested_to_convert'], axis=1)"
   ]
  },
  {
   "cell_type": "code",
   "execution_count": 101,
   "id": "4b727021",
   "metadata": {},
   "outputs": [
    {
     "name": "stdout",
     "output_type": "stream",
     "text": [
      "<class 'pandas.core.frame.DataFrame'>\n",
      "RangeIndex: 294 entries, 0 to 293\n",
      "Data columns (total 2 columns):\n",
      " #   Column                     Non-Null Count  Dtype \n",
      "---  ------                     --------------  ----- \n",
      " 0   lead_id                    294 non-null    object\n",
      " 1   Reason_for_not_interested  294 non-null    object\n",
      "dtypes: object(2)\n",
      "memory usage: 4.7+ KB\n"
     ]
    }
   ],
   "source": [
    "df4.info()"
   ]
  },
  {
   "cell_type": "code",
   "execution_count": 102,
   "id": "be7dfd91",
   "metadata": {},
   "outputs": [
    {
     "data": {
      "text/plain": [
       "Can't afford                        95\n",
       "Wants offline classes               91\n",
       "Student not interested in domain    52\n",
       "No time for student                 38\n",
       "Will join in final year             14\n",
       "Cannot afford                        4\n",
       "Name: Reason_for_not_interested, dtype: int64"
      ]
     },
     "execution_count": 102,
     "metadata": {},
     "output_type": "execute_result"
    }
   ],
   "source": [
    "df4.Reason_for_not_interested.value_counts()"
   ]
  },
  {
   "cell_type": "code",
   "execution_count": 103,
   "id": "f755fe62",
   "metadata": {},
   "outputs": [],
   "source": [
    "df4['Reason_for_not_interested'].replace({\"Can't afford\":'Cannot afford'}, inplace=True)"
   ]
  },
  {
   "cell_type": "code",
   "execution_count": 104,
   "id": "5f0d0cf2",
   "metadata": {},
   "outputs": [
    {
     "data": {
      "text/html": [
       "<div>\n",
       "<style scoped>\n",
       "    .dataframe tbody tr th:only-of-type {\n",
       "        vertical-align: middle;\n",
       "    }\n",
       "\n",
       "    .dataframe tbody tr th {\n",
       "        vertical-align: top;\n",
       "    }\n",
       "\n",
       "    .dataframe thead th {\n",
       "        text-align: right;\n",
       "    }\n",
       "</style>\n",
       "<table border=\"1\" class=\"dataframe\">\n",
       "  <thead>\n",
       "    <tr style=\"text-align: right;\">\n",
       "      <th></th>\n",
       "      <th>lead_id</th>\n",
       "      <th>Reason_for_not_interested</th>\n",
       "    </tr>\n",
       "  </thead>\n",
       "  <tbody>\n",
       "    <tr>\n",
       "      <th>0</th>\n",
       "      <td>USR1001</td>\n",
       "      <td>No time for student</td>\n",
       "    </tr>\n",
       "    <tr>\n",
       "      <th>1</th>\n",
       "      <td>USR1003</td>\n",
       "      <td>No time for student</td>\n",
       "    </tr>\n",
       "    <tr>\n",
       "      <th>2</th>\n",
       "      <td>USR1004</td>\n",
       "      <td>Wants offline classes</td>\n",
       "    </tr>\n",
       "    <tr>\n",
       "      <th>3</th>\n",
       "      <td>USR1005</td>\n",
       "      <td>Cannot afford</td>\n",
       "    </tr>\n",
       "    <tr>\n",
       "      <th>4</th>\n",
       "      <td>USR1006</td>\n",
       "      <td>Student not interested in domain</td>\n",
       "    </tr>\n",
       "    <tr>\n",
       "      <th>...</th>\n",
       "      <td>...</td>\n",
       "      <td>...</td>\n",
       "    </tr>\n",
       "    <tr>\n",
       "      <th>289</th>\n",
       "      <td>USR1356</td>\n",
       "      <td>Cannot afford</td>\n",
       "    </tr>\n",
       "    <tr>\n",
       "      <th>290</th>\n",
       "      <td>USR1357</td>\n",
       "      <td>Cannot afford</td>\n",
       "    </tr>\n",
       "    <tr>\n",
       "      <th>291</th>\n",
       "      <td>USR1358</td>\n",
       "      <td>Wants offline classes</td>\n",
       "    </tr>\n",
       "    <tr>\n",
       "      <th>292</th>\n",
       "      <td>USR1359</td>\n",
       "      <td>Will join in final year</td>\n",
       "    </tr>\n",
       "    <tr>\n",
       "      <th>293</th>\n",
       "      <td>USR1360</td>\n",
       "      <td>Will join in final year</td>\n",
       "    </tr>\n",
       "  </tbody>\n",
       "</table>\n",
       "<p>294 rows × 2 columns</p>\n",
       "</div>"
      ],
      "text/plain": [
       "     lead_id         Reason_for_not_interested\n",
       "0    USR1001               No time for student\n",
       "1    USR1003               No time for student\n",
       "2    USR1004             Wants offline classes\n",
       "3    USR1005                     Cannot afford\n",
       "4    USR1006  Student not interested in domain\n",
       "..       ...                               ...\n",
       "289  USR1356                     Cannot afford\n",
       "290  USR1357                     Cannot afford\n",
       "291  USR1358             Wants offline classes\n",
       "292  USR1359           Will join in final year\n",
       "293  USR1360           Will join in final year\n",
       "\n",
       "[294 rows x 2 columns]"
      ]
     },
     "execution_count": 104,
     "metadata": {},
     "output_type": "execute_result"
    }
   ],
   "source": [
    "df4"
   ]
  },
  {
   "cell_type": "markdown",
   "id": "d6659849",
   "metadata": {},
   "source": [
    "### DataFrame - df5"
   ]
  },
  {
   "cell_type": "code",
   "execution_count": 105,
   "id": "f4f8fd9e",
   "metadata": {},
   "outputs": [
    {
     "name": "stdout",
     "output_type": "stream",
     "text": [
      "<class 'pandas.core.frame.DataFrame'>\n",
      "RangeIndex: 360 entries, 0 to 359\n",
      "Data columns (total 5 columns):\n",
      " #   Column         Non-Null Count  Dtype \n",
      "---  ------         --------------  ----- \n",
      " 0   snr_sm_id      360 non-null    object\n",
      " 1   jnr_sm_id      360 non-null    object\n",
      " 2   assigned_date  360 non-null    object\n",
      " 3   cycle          360 non-null    int64 \n",
      " 4   lead_id        360 non-null    object\n",
      "dtypes: int64(1), object(4)\n",
      "memory usage: 14.2+ KB\n"
     ]
    }
   ],
   "source": [
    "df5.info()"
   ]
  },
  {
   "cell_type": "code",
   "execution_count": 106,
   "id": "9e2bff4a",
   "metadata": {},
   "outputs": [
    {
     "data": {
      "text/plain": [
       "(360, 4)"
      ]
     },
     "execution_count": 106,
     "metadata": {},
     "output_type": "execute_result"
    }
   ],
   "source": [
    "df5 = df5.drop(['assigned_date'], axis=1)\n",
    "df5.shape"
   ]
  },
  {
   "cell_type": "code",
   "execution_count": 107,
   "id": "1735b5ee",
   "metadata": {},
   "outputs": [],
   "source": [
    "##  Removing the outliers identified in df1 and df2 from df5\n",
    "\n",
    "df5 = df5.drop([df1_outlier.index[0] , df1_outlier.index[1], df2_outlier.index[0] , df2_outlier.index[1]])"
   ]
  },
  {
   "cell_type": "code",
   "execution_count": 108,
   "id": "b80316e7",
   "metadata": {},
   "outputs": [
    {
     "name": "stdout",
     "output_type": "stream",
     "text": [
      "***SHAPE OF DATASETS*** \n",
      "\n",
      "leads_basic_details:  (358, 7)\n",
      "leads_demo_watched_details (192, 3)\n",
      "leads_interaction_details (1743, 5)\n",
      "leads_reasons_for_no_interest (294, 2)\n",
      "sales_managers_assigned_leads_details (356, 4)\n"
     ]
    }
   ],
   "source": [
    "print('***SHAPE OF DATASETS*** \\n')\n",
    "print('leads_basic_details: ', df1.shape)\n",
    "print('leads_demo_watched_details', df2.shape)\n",
    "print('leads_interaction_details', df3.shape)\n",
    "print('leads_reasons_for_no_interest', df4.shape)\n",
    "print('sales_managers_assigned_leads_details', df5.shape)"
   ]
  },
  {
   "cell_type": "code",
   "execution_count": 109,
   "id": "1df4a5b4",
   "metadata": {},
   "outputs": [
    {
     "name": "stdout",
     "output_type": "stream",
     "text": [
      "<class 'pandas.core.frame.DataFrame'>\n",
      "Int64Index: 1734 entries, 0 to 1733\n",
      "Data columns (total 11 columns):\n",
      " #   Column             Non-Null Count  Dtype \n",
      "---  ------             --------------  ----- \n",
      " 0   lead_id            1734 non-null   object\n",
      " 1   age                1734 non-null   int64 \n",
      " 2   gender             1734 non-null   object\n",
      " 3   current_city       1734 non-null   object\n",
      " 4   current_education  1734 non-null   object\n",
      " 5   parent_occupation  1734 non-null   object\n",
      " 6   lead_gen_source    1734 non-null   object\n",
      " 7   jnr_sm_id          1734 non-null   object\n",
      " 8   lead_stage         1734 non-null   object\n",
      " 9   call_status        1734 non-null   object\n",
      " 10  call_reason        1734 non-null   object\n",
      "dtypes: int64(1), object(10)\n",
      "memory usage: 162.6+ KB\n"
     ]
    }
   ],
   "source": [
    "## merging two datasets\n",
    "\n",
    "L1 = pd.merge(df1,df3)\n",
    "L1.info()"
   ]
  },
  {
   "cell_type": "code",
   "execution_count": 110,
   "id": "cb018c63",
   "metadata": {},
   "outputs": [
    {
     "name": "stdout",
     "output_type": "stream",
     "text": [
      "<class 'pandas.core.frame.DataFrame'>\n",
      "Int64Index: 1726 entries, 0 to 1725\n",
      "Data columns (total 13 columns):\n",
      " #   Column             Non-Null Count  Dtype \n",
      "---  ------             --------------  ----- \n",
      " 0   lead_id            1726 non-null   object\n",
      " 1   age                1726 non-null   int64 \n",
      " 2   gender             1726 non-null   object\n",
      " 3   current_city       1726 non-null   object\n",
      " 4   current_education  1726 non-null   object\n",
      " 5   parent_occupation  1726 non-null   object\n",
      " 6   lead_gen_source    1726 non-null   object\n",
      " 7   jnr_sm_id          1726 non-null   object\n",
      " 8   lead_stage         1726 non-null   object\n",
      " 9   call_status        1726 non-null   object\n",
      " 10  call_reason        1726 non-null   object\n",
      " 11  snr_sm_id          1726 non-null   object\n",
      " 12  cycle              1726 non-null   int64 \n",
      "dtypes: int64(2), object(11)\n",
      "memory usage: 188.8+ KB\n"
     ]
    }
   ],
   "source": [
    "## merge L1 with df5\n",
    "\n",
    "L2 = pd.merge(L1,df5)\n",
    "L2.info()"
   ]
  },
  {
   "cell_type": "code",
   "execution_count": 111,
   "id": "4ce779de",
   "metadata": {},
   "outputs": [
    {
     "name": "stdout",
     "output_type": "stream",
     "text": [
      "<class 'pandas.core.frame.DataFrame'>\n",
      "Int64Index: 1726 entries, 0 to 1725\n",
      "Data columns (total 14 columns):\n",
      " #   Column                     Non-Null Count  Dtype \n",
      "---  ------                     --------------  ----- \n",
      " 0   lead_id                    1726 non-null   object\n",
      " 1   age                        1726 non-null   int64 \n",
      " 2   gender                     1726 non-null   object\n",
      " 3   current_city               1726 non-null   object\n",
      " 4   current_education          1726 non-null   object\n",
      " 5   parent_occupation          1726 non-null   object\n",
      " 6   lead_gen_source            1726 non-null   object\n",
      " 7   jnr_sm_id                  1726 non-null   object\n",
      " 8   lead_stage                 1726 non-null   object\n",
      " 9   call_status                1726 non-null   object\n",
      " 10  call_reason                1726 non-null   object\n",
      " 11  snr_sm_id                  1726 non-null   object\n",
      " 12  cycle                      1726 non-null   int64 \n",
      " 13  Reason_for_not_interested  1205 non-null   object\n",
      "dtypes: int64(2), object(12)\n",
      "memory usage: 202.3+ KB\n"
     ]
    }
   ],
   "source": [
    "## merge L2 with df4\n",
    "\n",
    "L3 = pd.merge(L2, df4, how = 'left', on='lead_id')\n",
    "L3.info()"
   ]
  },
  {
   "cell_type": "code",
   "execution_count": 112,
   "id": "db2d64c0",
   "metadata": {},
   "outputs": [],
   "source": [
    "## fill null values\n",
    "\n",
    "L3['Reason_for_not_interested'] = L3['Reason_for_not_interested'].fillna('Shown Interest')"
   ]
  },
  {
   "cell_type": "code",
   "execution_count": 113,
   "id": "fada9fb3",
   "metadata": {},
   "outputs": [
    {
     "name": "stdout",
     "output_type": "stream",
     "text": [
      "<class 'pandas.core.frame.DataFrame'>\n",
      "Int64Index: 1726 entries, 0 to 1725\n",
      "Data columns (total 14 columns):\n",
      " #   Column                     Non-Null Count  Dtype \n",
      "---  ------                     --------------  ----- \n",
      " 0   lead_id                    1726 non-null   object\n",
      " 1   age                        1726 non-null   int64 \n",
      " 2   gender                     1726 non-null   object\n",
      " 3   current_city               1726 non-null   object\n",
      " 4   current_education          1726 non-null   object\n",
      " 5   parent_occupation          1726 non-null   object\n",
      " 6   lead_gen_source            1726 non-null   object\n",
      " 7   jnr_sm_id                  1726 non-null   object\n",
      " 8   lead_stage                 1726 non-null   object\n",
      " 9   call_status                1726 non-null   object\n",
      " 10  call_reason                1726 non-null   object\n",
      " 11  snr_sm_id                  1726 non-null   object\n",
      " 12  cycle                      1726 non-null   int64 \n",
      " 13  Reason_for_not_interested  1726 non-null   object\n",
      "dtypes: int64(2), object(12)\n",
      "memory usage: 202.3+ KB\n"
     ]
    }
   ],
   "source": [
    "L3.info()"
   ]
  },
  {
   "cell_type": "code",
   "execution_count": 114,
   "id": "5d4ea811",
   "metadata": {},
   "outputs": [
    {
     "name": "stdout",
     "output_type": "stream",
     "text": [
      "<class 'pandas.core.frame.DataFrame'>\n",
      "Int64Index: 1726 entries, 0 to 1725\n",
      "Data columns (total 16 columns):\n",
      " #   Column                     Non-Null Count  Dtype  \n",
      "---  ------                     --------------  -----  \n",
      " 0   lead_id                    1726 non-null   object \n",
      " 1   age                        1726 non-null   int64  \n",
      " 2   gender                     1726 non-null   object \n",
      " 3   current_city               1726 non-null   object \n",
      " 4   current_education          1726 non-null   object \n",
      " 5   parent_occupation          1726 non-null   object \n",
      " 6   lead_gen_source            1726 non-null   object \n",
      " 7   jnr_sm_id                  1726 non-null   object \n",
      " 8   lead_stage                 1726 non-null   object \n",
      " 9   call_status                1726 non-null   object \n",
      " 10  call_reason                1726 non-null   object \n",
      " 11  snr_sm_id                  1726 non-null   object \n",
      " 12  cycle                      1726 non-null   int64  \n",
      " 13  Reason_for_not_interested  1726 non-null   object \n",
      " 14  language                   1222 non-null   object \n",
      " 15  watched_percentage         1222 non-null   float64\n",
      "dtypes: float64(1), int64(2), object(13)\n",
      "memory usage: 229.2+ KB\n"
     ]
    }
   ],
   "source": [
    "## merge L3 with df2\n",
    "\n",
    "L4 = pd.merge(L3,df2,how='left',on='lead_id')\n",
    "L4.info()"
   ]
  },
  {
   "cell_type": "code",
   "execution_count": 53,
   "id": "2c88c8e7",
   "metadata": {},
   "outputs": [],
   "source": [
    "## fill null values\n",
    "\n",
    "L4['language'] = L4['language'].fillna('Info Unavailable')\n",
    "L4['watched_percentage'] = L4['watched_percentage'].fillna('0')"
   ]
  },
  {
   "cell_type": "code",
   "execution_count": 54,
   "id": "2c05eb0b",
   "metadata": {},
   "outputs": [
    {
     "name": "stdout",
     "output_type": "stream",
     "text": [
      "<class 'pandas.core.frame.DataFrame'>\n",
      "Int64Index: 1726 entries, 0 to 1725\n",
      "Data columns (total 16 columns):\n",
      " #   Column                     Non-Null Count  Dtype \n",
      "---  ------                     --------------  ----- \n",
      " 0   lead_id                    1726 non-null   object\n",
      " 1   age                        1726 non-null   int64 \n",
      " 2   gender                     1726 non-null   object\n",
      " 3   current_city               1726 non-null   object\n",
      " 4   current_education          1726 non-null   object\n",
      " 5   parent_occupation          1726 non-null   object\n",
      " 6   lead_gen_source            1726 non-null   object\n",
      " 7   jnr_sm_id                  1726 non-null   object\n",
      " 8   lead_stage                 1726 non-null   object\n",
      " 9   call_status                1726 non-null   object\n",
      " 10  call_reason                1726 non-null   object\n",
      " 11  snr_sm_id                  1726 non-null   object\n",
      " 12  cycle                      1726 non-null   int64 \n",
      " 13  Reason_for_not_interested  1726 non-null   object\n",
      " 14  language                   1726 non-null   object\n",
      " 15  watched_percentage         1726 non-null   object\n",
      "dtypes: int64(2), object(14)\n",
      "memory usage: 229.2+ KB\n"
     ]
    }
   ],
   "source": [
    "L4.info()\n"
   ]
  },
  {
   "cell_type": "code",
   "execution_count": 55,
   "id": "ad6e35aa",
   "metadata": {},
   "outputs": [
    {
     "data": {
      "text/plain": [
       "0"
      ]
     },
     "execution_count": 55,
     "metadata": {},
     "output_type": "execute_result"
    }
   ],
   "source": [
    "## check duplicate values\n",
    "\n",
    "L4.duplicated().sum()"
   ]
  },
  {
   "cell_type": "code",
   "execution_count": 56,
   "id": "3c2eea97",
   "metadata": {},
   "outputs": [],
   "source": [
    "L4['Lead_Status'] = np.where(L4['lead_stage'] == 'Conversion Stage', 'Converted Lead', 'Yet to convert Lead')"
   ]
  },
  {
   "cell_type": "code",
   "execution_count": 57,
   "id": "42ad73b9",
   "metadata": {},
   "outputs": [
    {
     "data": {
      "text/html": [
       "<div>\n",
       "<style scoped>\n",
       "    .dataframe tbody tr th:only-of-type {\n",
       "        vertical-align: middle;\n",
       "    }\n",
       "\n",
       "    .dataframe tbody tr th {\n",
       "        vertical-align: top;\n",
       "    }\n",
       "\n",
       "    .dataframe thead th {\n",
       "        text-align: right;\n",
       "    }\n",
       "</style>\n",
       "<table border=\"1\" class=\"dataframe\">\n",
       "  <thead>\n",
       "    <tr style=\"text-align: right;\">\n",
       "      <th></th>\n",
       "      <th>lead_id</th>\n",
       "      <th>age</th>\n",
       "      <th>gender</th>\n",
       "      <th>current_city</th>\n",
       "      <th>current_education</th>\n",
       "      <th>parent_occupation</th>\n",
       "      <th>lead_gen_source</th>\n",
       "      <th>jnr_sm_id</th>\n",
       "      <th>lead_stage</th>\n",
       "      <th>call_status</th>\n",
       "      <th>call_reason</th>\n",
       "      <th>snr_sm_id</th>\n",
       "      <th>cycle</th>\n",
       "      <th>Reason_for_not_interested</th>\n",
       "      <th>language</th>\n",
       "      <th>watched_percentage</th>\n",
       "      <th>Lead_Status</th>\n",
       "    </tr>\n",
       "  </thead>\n",
       "  <tbody>\n",
       "    <tr>\n",
       "      <th>0</th>\n",
       "      <td>USR1001</td>\n",
       "      <td>16</td>\n",
       "      <td>FEMALE</td>\n",
       "      <td>Hyderabad</td>\n",
       "      <td>Intermediate</td>\n",
       "      <td>Private Employee</td>\n",
       "      <td>social_media</td>\n",
       "      <td>JNR1001MG</td>\n",
       "      <td>Lead Stage</td>\n",
       "      <td>successful</td>\n",
       "      <td>lead_introduction</td>\n",
       "      <td>SNR501MG</td>\n",
       "      <td>1</td>\n",
       "      <td>No time for student</td>\n",
       "      <td>Info Unavailable</td>\n",
       "      <td>0</td>\n",
       "      <td>Yet to convert Lead</td>\n",
       "    </tr>\n",
       "    <tr>\n",
       "      <th>1</th>\n",
       "      <td>USR1001</td>\n",
       "      <td>16</td>\n",
       "      <td>FEMALE</td>\n",
       "      <td>Hyderabad</td>\n",
       "      <td>Intermediate</td>\n",
       "      <td>Private Employee</td>\n",
       "      <td>social_media</td>\n",
       "      <td>JNR1001MG</td>\n",
       "      <td>Lead Stage</td>\n",
       "      <td>successful</td>\n",
       "      <td>demo_schedule</td>\n",
       "      <td>SNR501MG</td>\n",
       "      <td>1</td>\n",
       "      <td>No time for student</td>\n",
       "      <td>Info Unavailable</td>\n",
       "      <td>0</td>\n",
       "      <td>Yet to convert Lead</td>\n",
       "    </tr>\n",
       "    <tr>\n",
       "      <th>2</th>\n",
       "      <td>USR1002</td>\n",
       "      <td>20</td>\n",
       "      <td>MALE</td>\n",
       "      <td>Bengaluru</td>\n",
       "      <td>B.Tech</td>\n",
       "      <td>Business</td>\n",
       "      <td>user_referrals</td>\n",
       "      <td>JNR1001MG</td>\n",
       "      <td>Lead Stage</td>\n",
       "      <td>successful</td>\n",
       "      <td>lead_introduction</td>\n",
       "      <td>SNR501MG</td>\n",
       "      <td>1</td>\n",
       "      <td>Shown Interest</td>\n",
       "      <td>Telugu</td>\n",
       "      <td>42.0</td>\n",
       "      <td>Yet to convert Lead</td>\n",
       "    </tr>\n",
       "    <tr>\n",
       "      <th>3</th>\n",
       "      <td>USR1002</td>\n",
       "      <td>20</td>\n",
       "      <td>MALE</td>\n",
       "      <td>Bengaluru</td>\n",
       "      <td>B.Tech</td>\n",
       "      <td>Business</td>\n",
       "      <td>user_referrals</td>\n",
       "      <td>JNR1001MG</td>\n",
       "      <td>Lead Stage</td>\n",
       "      <td>successful</td>\n",
       "      <td>demo_schedule</td>\n",
       "      <td>SNR501MG</td>\n",
       "      <td>1</td>\n",
       "      <td>Shown Interest</td>\n",
       "      <td>Telugu</td>\n",
       "      <td>42.0</td>\n",
       "      <td>Yet to convert Lead</td>\n",
       "    </tr>\n",
       "    <tr>\n",
       "      <th>4</th>\n",
       "      <td>USR1002</td>\n",
       "      <td>20</td>\n",
       "      <td>MALE</td>\n",
       "      <td>Bengaluru</td>\n",
       "      <td>B.Tech</td>\n",
       "      <td>Business</td>\n",
       "      <td>user_referrals</td>\n",
       "      <td>JNR1001MG</td>\n",
       "      <td>awareness</td>\n",
       "      <td>successful</td>\n",
       "      <td>post_demo_followup</td>\n",
       "      <td>SNR501MG</td>\n",
       "      <td>1</td>\n",
       "      <td>Shown Interest</td>\n",
       "      <td>Telugu</td>\n",
       "      <td>42.0</td>\n",
       "      <td>Yet to convert Lead</td>\n",
       "    </tr>\n",
       "    <tr>\n",
       "      <th>...</th>\n",
       "      <td>...</td>\n",
       "      <td>...</td>\n",
       "      <td>...</td>\n",
       "      <td>...</td>\n",
       "      <td>...</td>\n",
       "      <td>...</td>\n",
       "      <td>...</td>\n",
       "      <td>...</td>\n",
       "      <td>...</td>\n",
       "      <td>...</td>\n",
       "      <td>...</td>\n",
       "      <td>...</td>\n",
       "      <td>...</td>\n",
       "      <td>...</td>\n",
       "      <td>...</td>\n",
       "      <td>...</td>\n",
       "      <td>...</td>\n",
       "    </tr>\n",
       "    <tr>\n",
       "      <th>1721</th>\n",
       "      <td>USR1356</td>\n",
       "      <td>21</td>\n",
       "      <td>MALE</td>\n",
       "      <td>Mumbai</td>\n",
       "      <td>Degree</td>\n",
       "      <td>Government Employee</td>\n",
       "      <td>user_referrals</td>\n",
       "      <td>JNR1001MG</td>\n",
       "      <td>Lead Stage</td>\n",
       "      <td>unsuccessful</td>\n",
       "      <td>lead_introduction</td>\n",
       "      <td>SNR501MG</td>\n",
       "      <td>4</td>\n",
       "      <td>Cannot afford</td>\n",
       "      <td>Info Unavailable</td>\n",
       "      <td>0</td>\n",
       "      <td>Yet to convert Lead</td>\n",
       "    </tr>\n",
       "    <tr>\n",
       "      <th>1722</th>\n",
       "      <td>USR1357</td>\n",
       "      <td>22</td>\n",
       "      <td>MALE</td>\n",
       "      <td>Chennai</td>\n",
       "      <td>Looking for Job</td>\n",
       "      <td>Government Employee</td>\n",
       "      <td>website</td>\n",
       "      <td>JNR1001MG</td>\n",
       "      <td>Lead Stage</td>\n",
       "      <td>unsuccessful</td>\n",
       "      <td>lead_introduction</td>\n",
       "      <td>SNR501MG</td>\n",
       "      <td>1</td>\n",
       "      <td>Cannot afford</td>\n",
       "      <td>Info Unavailable</td>\n",
       "      <td>0</td>\n",
       "      <td>Yet to convert Lead</td>\n",
       "    </tr>\n",
       "    <tr>\n",
       "      <th>1723</th>\n",
       "      <td>USR1358</td>\n",
       "      <td>25</td>\n",
       "      <td>MALE</td>\n",
       "      <td>Chennai</td>\n",
       "      <td>B.Tech</td>\n",
       "      <td>Government Employee</td>\n",
       "      <td>SEO</td>\n",
       "      <td>JNR1001MG</td>\n",
       "      <td>Lead Stage</td>\n",
       "      <td>unsuccessful</td>\n",
       "      <td>lead_introduction</td>\n",
       "      <td>SNR501MG</td>\n",
       "      <td>2</td>\n",
       "      <td>Wants offline classes</td>\n",
       "      <td>Info Unavailable</td>\n",
       "      <td>0</td>\n",
       "      <td>Yet to convert Lead</td>\n",
       "    </tr>\n",
       "    <tr>\n",
       "      <th>1724</th>\n",
       "      <td>USR1359</td>\n",
       "      <td>18</td>\n",
       "      <td>FEMALE</td>\n",
       "      <td>Mumbai</td>\n",
       "      <td>B.Tech</td>\n",
       "      <td>Government Employee</td>\n",
       "      <td>email_marketing</td>\n",
       "      <td>JNR1001MG</td>\n",
       "      <td>Lead Stage</td>\n",
       "      <td>unsuccessful</td>\n",
       "      <td>lead_introduction</td>\n",
       "      <td>SNR501MG</td>\n",
       "      <td>3</td>\n",
       "      <td>Will join in final year</td>\n",
       "      <td>Info Unavailable</td>\n",
       "      <td>0</td>\n",
       "      <td>Yet to convert Lead</td>\n",
       "    </tr>\n",
       "    <tr>\n",
       "      <th>1725</th>\n",
       "      <td>USR1360</td>\n",
       "      <td>16</td>\n",
       "      <td>MALE</td>\n",
       "      <td>Mumbai</td>\n",
       "      <td>Intermediate</td>\n",
       "      <td>Government Employee</td>\n",
       "      <td>social_media</td>\n",
       "      <td>JNR1001MG</td>\n",
       "      <td>Lead Stage</td>\n",
       "      <td>unsuccessful</td>\n",
       "      <td>lead_introduction</td>\n",
       "      <td>SNR501MG</td>\n",
       "      <td>4</td>\n",
       "      <td>Will join in final year</td>\n",
       "      <td>Info Unavailable</td>\n",
       "      <td>0</td>\n",
       "      <td>Yet to convert Lead</td>\n",
       "    </tr>\n",
       "  </tbody>\n",
       "</table>\n",
       "<p>1726 rows × 17 columns</p>\n",
       "</div>"
      ],
      "text/plain": [
       "      lead_id  age  gender current_city current_education  \\\n",
       "0     USR1001   16  FEMALE    Hyderabad      Intermediate   \n",
       "1     USR1001   16  FEMALE    Hyderabad      Intermediate   \n",
       "2     USR1002   20    MALE    Bengaluru            B.Tech   \n",
       "3     USR1002   20    MALE    Bengaluru            B.Tech   \n",
       "4     USR1002   20    MALE    Bengaluru            B.Tech   \n",
       "...       ...  ...     ...          ...               ...   \n",
       "1721  USR1356   21    MALE       Mumbai            Degree   \n",
       "1722  USR1357   22    MALE      Chennai   Looking for Job   \n",
       "1723  USR1358   25    MALE      Chennai            B.Tech   \n",
       "1724  USR1359   18  FEMALE       Mumbai            B.Tech   \n",
       "1725  USR1360   16    MALE       Mumbai      Intermediate   \n",
       "\n",
       "        parent_occupation  lead_gen_source  jnr_sm_id  lead_stage  \\\n",
       "0        Private Employee     social_media  JNR1001MG  Lead Stage   \n",
       "1        Private Employee     social_media  JNR1001MG  Lead Stage   \n",
       "2                Business   user_referrals  JNR1001MG  Lead Stage   \n",
       "3                Business   user_referrals  JNR1001MG  Lead Stage   \n",
       "4                Business   user_referrals  JNR1001MG   awareness   \n",
       "...                   ...              ...        ...         ...   \n",
       "1721  Government Employee   user_referrals  JNR1001MG  Lead Stage   \n",
       "1722  Government Employee          website  JNR1001MG  Lead Stage   \n",
       "1723  Government Employee              SEO  JNR1001MG  Lead Stage   \n",
       "1724  Government Employee  email_marketing  JNR1001MG  Lead Stage   \n",
       "1725  Government Employee     social_media  JNR1001MG  Lead Stage   \n",
       "\n",
       "       call_status         call_reason snr_sm_id  cycle  \\\n",
       "0       successful   lead_introduction  SNR501MG      1   \n",
       "1       successful       demo_schedule  SNR501MG      1   \n",
       "2       successful   lead_introduction  SNR501MG      1   \n",
       "3       successful       demo_schedule  SNR501MG      1   \n",
       "4       successful  post_demo_followup  SNR501MG      1   \n",
       "...            ...                 ...       ...    ...   \n",
       "1721  unsuccessful   lead_introduction  SNR501MG      4   \n",
       "1722  unsuccessful   lead_introduction  SNR501MG      1   \n",
       "1723  unsuccessful   lead_introduction  SNR501MG      2   \n",
       "1724  unsuccessful   lead_introduction  SNR501MG      3   \n",
       "1725  unsuccessful   lead_introduction  SNR501MG      4   \n",
       "\n",
       "     Reason_for_not_interested          language watched_percentage  \\\n",
       "0          No time for student  Info Unavailable                  0   \n",
       "1          No time for student  Info Unavailable                  0   \n",
       "2               Shown Interest            Telugu               42.0   \n",
       "3               Shown Interest            Telugu               42.0   \n",
       "4               Shown Interest            Telugu               42.0   \n",
       "...                        ...               ...                ...   \n",
       "1721             Cannot afford  Info Unavailable                  0   \n",
       "1722             Cannot afford  Info Unavailable                  0   \n",
       "1723     Wants offline classes  Info Unavailable                  0   \n",
       "1724   Will join in final year  Info Unavailable                  0   \n",
       "1725   Will join in final year  Info Unavailable                  0   \n",
       "\n",
       "              Lead_Status  \n",
       "0     Yet to convert Lead  \n",
       "1     Yet to convert Lead  \n",
       "2     Yet to convert Lead  \n",
       "3     Yet to convert Lead  \n",
       "4     Yet to convert Lead  \n",
       "...                   ...  \n",
       "1721  Yet to convert Lead  \n",
       "1722  Yet to convert Lead  \n",
       "1723  Yet to convert Lead  \n",
       "1724  Yet to convert Lead  \n",
       "1725  Yet to convert Lead  \n",
       "\n",
       "[1726 rows x 17 columns]"
      ]
     },
     "execution_count": 57,
     "metadata": {},
     "output_type": "execute_result"
    }
   ],
   "source": [
    "L4"
   ]
  },
  {
   "cell_type": "code",
   "execution_count": 58,
   "id": "e33f75fc",
   "metadata": {},
   "outputs": [],
   "source": [
    "## Converting dataframe to csv file\n",
    "\n",
    "L4.to_csv('L4.csv', index=False)"
   ]
  },
  {
   "cell_type": "code",
   "execution_count": 117,
   "id": "d7b3b339",
   "metadata": {},
   "outputs": [
    {
     "data": {
      "text/html": [
       "<div>\n",
       "<style scoped>\n",
       "    .dataframe tbody tr th:only-of-type {\n",
       "        vertical-align: middle;\n",
       "    }\n",
       "\n",
       "    .dataframe tbody tr th {\n",
       "        vertical-align: top;\n",
       "    }\n",
       "\n",
       "    .dataframe thead th {\n",
       "        text-align: right;\n",
       "    }\n",
       "</style>\n",
       "<table border=\"1\" class=\"dataframe\">\n",
       "  <thead>\n",
       "    <tr style=\"text-align: right;\">\n",
       "      <th></th>\n",
       "      <th>lead_id</th>\n",
       "      <th>language</th>\n",
       "      <th>watched_percentage</th>\n",
       "      <th>age</th>\n",
       "      <th>gender</th>\n",
       "      <th>current_city</th>\n",
       "      <th>current_education</th>\n",
       "      <th>parent_occupation</th>\n",
       "      <th>lead_gen_source</th>\n",
       "    </tr>\n",
       "  </thead>\n",
       "  <tbody>\n",
       "    <tr>\n",
       "      <th>0</th>\n",
       "      <td>USR1002</td>\n",
       "      <td>Telugu</td>\n",
       "      <td>42</td>\n",
       "      <td>20</td>\n",
       "      <td>MALE</td>\n",
       "      <td>Bengaluru</td>\n",
       "      <td>B.Tech</td>\n",
       "      <td>Business</td>\n",
       "      <td>user_referrals</td>\n",
       "    </tr>\n",
       "    <tr>\n",
       "      <th>1</th>\n",
       "      <td>USR1003</td>\n",
       "      <td>Telugu</td>\n",
       "      <td>81</td>\n",
       "      <td>20</td>\n",
       "      <td>FEMALE</td>\n",
       "      <td>Visakhapatnam</td>\n",
       "      <td>B.Tech</td>\n",
       "      <td>Lawyer</td>\n",
       "      <td>user_referrals</td>\n",
       "    </tr>\n",
       "    <tr>\n",
       "      <th>2</th>\n",
       "      <td>USR1004</td>\n",
       "      <td>Telugu</td>\n",
       "      <td>35</td>\n",
       "      <td>16</td>\n",
       "      <td>MALE</td>\n",
       "      <td>Mumbai</td>\n",
       "      <td>Intermediate</td>\n",
       "      <td>IT Employee</td>\n",
       "      <td>user_referrals</td>\n",
       "    </tr>\n",
       "    <tr>\n",
       "      <th>3</th>\n",
       "      <td>USR1005</td>\n",
       "      <td>Hindi</td>\n",
       "      <td>38</td>\n",
       "      <td>16</td>\n",
       "      <td>MALE</td>\n",
       "      <td>Chennai</td>\n",
       "      <td>Intermediate</td>\n",
       "      <td>Government Employee</td>\n",
       "      <td>user_referrals</td>\n",
       "    </tr>\n",
       "    <tr>\n",
       "      <th>4</th>\n",
       "      <td>USR1006</td>\n",
       "      <td>Hindi</td>\n",
       "      <td>54</td>\n",
       "      <td>16</td>\n",
       "      <td>MALE</td>\n",
       "      <td>Kochi</td>\n",
       "      <td>Intermediate</td>\n",
       "      <td>Doctor</td>\n",
       "      <td>user_referrals</td>\n",
       "    </tr>\n",
       "    <tr>\n",
       "      <th>...</th>\n",
       "      <td>...</td>\n",
       "      <td>...</td>\n",
       "      <td>...</td>\n",
       "      <td>...</td>\n",
       "      <td>...</td>\n",
       "      <td>...</td>\n",
       "      <td>...</td>\n",
       "      <td>...</td>\n",
       "      <td>...</td>\n",
       "    </tr>\n",
       "    <tr>\n",
       "      <th>186</th>\n",
       "      <td>USR1317</td>\n",
       "      <td>English</td>\n",
       "      <td>48</td>\n",
       "      <td>24</td>\n",
       "      <td>MALE</td>\n",
       "      <td>Mumbai</td>\n",
       "      <td>Looking for Job</td>\n",
       "      <td>Lawyer</td>\n",
       "      <td>social_media</td>\n",
       "    </tr>\n",
       "    <tr>\n",
       "      <th>187</th>\n",
       "      <td>USR1318</td>\n",
       "      <td>English</td>\n",
       "      <td>83</td>\n",
       "      <td>21</td>\n",
       "      <td>MALE</td>\n",
       "      <td>Mumbai</td>\n",
       "      <td>Degree</td>\n",
       "      <td>IT Employee</td>\n",
       "      <td>email_marketing</td>\n",
       "    </tr>\n",
       "    <tr>\n",
       "      <th>188</th>\n",
       "      <td>USR1319</td>\n",
       "      <td>English</td>\n",
       "      <td>84</td>\n",
       "      <td>22</td>\n",
       "      <td>FEMALE</td>\n",
       "      <td>Bengaluru</td>\n",
       "      <td>Looking for Job</td>\n",
       "      <td>Government Employee</td>\n",
       "      <td>email_marketing</td>\n",
       "    </tr>\n",
       "    <tr>\n",
       "      <th>189</th>\n",
       "      <td>USR1343</td>\n",
       "      <td>English</td>\n",
       "      <td>68</td>\n",
       "      <td>24</td>\n",
       "      <td>FEMALE</td>\n",
       "      <td>Kochi</td>\n",
       "      <td>Looking for Job</td>\n",
       "      <td>IT Employee</td>\n",
       "      <td>social_media</td>\n",
       "    </tr>\n",
       "    <tr>\n",
       "      <th>190</th>\n",
       "      <td>USR1348</td>\n",
       "      <td>English</td>\n",
       "      <td>72</td>\n",
       "      <td>16</td>\n",
       "      <td>FEMALE</td>\n",
       "      <td>Kochi</td>\n",
       "      <td>Intermediate</td>\n",
       "      <td>Business</td>\n",
       "      <td>social_media</td>\n",
       "    </tr>\n",
       "  </tbody>\n",
       "</table>\n",
       "<p>191 rows × 9 columns</p>\n",
       "</div>"
      ],
      "text/plain": [
       "     lead_id language  watched_percentage  age  gender   current_city  \\\n",
       "0    USR1002   Telugu                  42   20    MALE      Bengaluru   \n",
       "1    USR1003   Telugu                  81   20  FEMALE  Visakhapatnam   \n",
       "2    USR1004   Telugu                  35   16    MALE         Mumbai   \n",
       "3    USR1005    Hindi                  38   16    MALE        Chennai   \n",
       "4    USR1006    Hindi                  54   16    MALE          Kochi   \n",
       "..       ...      ...                 ...  ...     ...            ...   \n",
       "186  USR1317  English                  48   24    MALE         Mumbai   \n",
       "187  USR1318  English                  83   21    MALE         Mumbai   \n",
       "188  USR1319  English                  84   22  FEMALE      Bengaluru   \n",
       "189  USR1343  English                  68   24  FEMALE          Kochi   \n",
       "190  USR1348  English                  72   16  FEMALE          Kochi   \n",
       "\n",
       "    current_education    parent_occupation  lead_gen_source  \n",
       "0              B.Tech             Business   user_referrals  \n",
       "1              B.Tech               Lawyer   user_referrals  \n",
       "2        Intermediate          IT Employee   user_referrals  \n",
       "3        Intermediate  Government Employee   user_referrals  \n",
       "4        Intermediate               Doctor   user_referrals  \n",
       "..                ...                  ...              ...  \n",
       "186   Looking for Job               Lawyer     social_media  \n",
       "187            Degree          IT Employee  email_marketing  \n",
       "188   Looking for Job  Government Employee  email_marketing  \n",
       "189   Looking for Job          IT Employee     social_media  \n",
       "190      Intermediate             Business     social_media  \n",
       "\n",
       "[191 rows x 9 columns]"
      ]
     },
     "execution_count": 117,
     "metadata": {},
     "output_type": "execute_result"
    }
   ],
   "source": [
    "merged_leads_demo = pd.merge(df2, df1, how='inner', on = 'lead_id')\n",
    "merged_leads_demo "
   ]
  },
  {
   "cell_type": "code",
   "execution_count": 116,
   "id": "75a488f6",
   "metadata": {},
   "outputs": [
    {
     "data": {
      "text/plain": [
       "language  current_city \n",
       "English   Bengaluru        22\n",
       "          Chennai          17\n",
       "          Hyderabad        20\n",
       "          Kochi            19\n",
       "          Mumbai           11\n",
       "          Visakhapatnam    22\n",
       "Hindi     Bengaluru         3\n",
       "          Chennai           6\n",
       "          Hyderabad         3\n",
       "          Kochi             4\n",
       "          Mumbai            1\n",
       "          Visakhapatnam     2\n",
       "Telugu    Bengaluru         7\n",
       "          Chennai           7\n",
       "          Hyderabad        17\n",
       "          Kochi             8\n",
       "          Mumbai            7\n",
       "          Visakhapatnam    15\n",
       "dtype: int64"
      ]
     },
     "execution_count": 116,
     "metadata": {},
     "output_type": "execute_result"
    }
   ],
   "source": [
    "merged_leads_demo.groupby(['language', 'current_city']).size()"
   ]
  },
  {
   "cell_type": "code",
   "execution_count": 124,
   "id": "08870454",
   "metadata": {},
   "outputs": [],
   "source": [
    "merged_interaction_demo.to_csv('merged_interaction_demo.csv', index=False)"
   ]
  },
  {
   "cell_type": "code",
   "execution_count": 118,
   "id": "1a4cbc56",
   "metadata": {},
   "outputs": [
    {
     "data": {
      "text/html": [
       "<div>\n",
       "<style scoped>\n",
       "    .dataframe tbody tr th:only-of-type {\n",
       "        vertical-align: middle;\n",
       "    }\n",
       "\n",
       "    .dataframe tbody tr th {\n",
       "        vertical-align: top;\n",
       "    }\n",
       "\n",
       "    .dataframe thead th {\n",
       "        text-align: right;\n",
       "    }\n",
       "</style>\n",
       "<table border=\"1\" class=\"dataframe\">\n",
       "  <thead>\n",
       "    <tr style=\"text-align: right;\">\n",
       "      <th></th>\n",
       "      <th>lead_id</th>\n",
       "      <th>language</th>\n",
       "      <th>watched_percentage</th>\n",
       "      <th>jnr_sm_id</th>\n",
       "      <th>lead_stage</th>\n",
       "      <th>call_status</th>\n",
       "      <th>call_reason</th>\n",
       "    </tr>\n",
       "  </thead>\n",
       "  <tbody>\n",
       "    <tr>\n",
       "      <th>0</th>\n",
       "      <td>USR1002</td>\n",
       "      <td>Telugu</td>\n",
       "      <td>42</td>\n",
       "      <td>JNR1001MG</td>\n",
       "      <td>Lead Stage</td>\n",
       "      <td>successful</td>\n",
       "      <td>lead_introduction</td>\n",
       "    </tr>\n",
       "    <tr>\n",
       "      <th>1</th>\n",
       "      <td>USR1002</td>\n",
       "      <td>Telugu</td>\n",
       "      <td>42</td>\n",
       "      <td>JNR1001MG</td>\n",
       "      <td>Lead Stage</td>\n",
       "      <td>successful</td>\n",
       "      <td>demo_schedule</td>\n",
       "    </tr>\n",
       "    <tr>\n",
       "      <th>2</th>\n",
       "      <td>USR1002</td>\n",
       "      <td>Telugu</td>\n",
       "      <td>42</td>\n",
       "      <td>JNR1001MG</td>\n",
       "      <td>awareness</td>\n",
       "      <td>successful</td>\n",
       "      <td>post_demo_followup</td>\n",
       "    </tr>\n",
       "    <tr>\n",
       "      <th>3</th>\n",
       "      <td>USR1002</td>\n",
       "      <td>Telugu</td>\n",
       "      <td>42</td>\n",
       "      <td>JNR1001MG</td>\n",
       "      <td>awareness</td>\n",
       "      <td>successful</td>\n",
       "      <td>followup_for_consideration</td>\n",
       "    </tr>\n",
       "    <tr>\n",
       "      <th>4</th>\n",
       "      <td>USR1002</td>\n",
       "      <td>Telugu</td>\n",
       "      <td>42</td>\n",
       "      <td>JNR1001MG</td>\n",
       "      <td>consideration</td>\n",
       "      <td>successful</td>\n",
       "      <td>interested_for_conversion</td>\n",
       "    </tr>\n",
       "    <tr>\n",
       "      <th>...</th>\n",
       "      <td>...</td>\n",
       "      <td>...</td>\n",
       "      <td>...</td>\n",
       "      <td>...</td>\n",
       "      <td>...</td>\n",
       "      <td>...</td>\n",
       "      <td>...</td>\n",
       "    </tr>\n",
       "    <tr>\n",
       "      <th>1227</th>\n",
       "      <td>USR1348</td>\n",
       "      <td>English</td>\n",
       "      <td>72</td>\n",
       "      <td>JNR1012MG</td>\n",
       "      <td>Lead Stage</td>\n",
       "      <td>successful</td>\n",
       "      <td>demo_not_attended</td>\n",
       "    </tr>\n",
       "    <tr>\n",
       "      <th>1228</th>\n",
       "      <td>USR1348</td>\n",
       "      <td>English</td>\n",
       "      <td>72</td>\n",
       "      <td>JNR1012MG</td>\n",
       "      <td>awareness</td>\n",
       "      <td>successful</td>\n",
       "      <td>post_demo_followup</td>\n",
       "    </tr>\n",
       "    <tr>\n",
       "      <th>1229</th>\n",
       "      <td>USR1348</td>\n",
       "      <td>English</td>\n",
       "      <td>72</td>\n",
       "      <td>JNR1012MG</td>\n",
       "      <td>awareness</td>\n",
       "      <td>successful</td>\n",
       "      <td>followup_for_consideration</td>\n",
       "    </tr>\n",
       "    <tr>\n",
       "      <th>1230</th>\n",
       "      <td>USR1348</td>\n",
       "      <td>English</td>\n",
       "      <td>72</td>\n",
       "      <td>JNR1012MG</td>\n",
       "      <td>consideration</td>\n",
       "      <td>successful</td>\n",
       "      <td>followup_for_conversion</td>\n",
       "    </tr>\n",
       "    <tr>\n",
       "      <th>1231</th>\n",
       "      <td>USR1348</td>\n",
       "      <td>English</td>\n",
       "      <td>72</td>\n",
       "      <td>JNR1012MG</td>\n",
       "      <td>consideration</td>\n",
       "      <td>successful</td>\n",
       "      <td>interested_for_conversion</td>\n",
       "    </tr>\n",
       "  </tbody>\n",
       "</table>\n",
       "<p>1232 rows × 7 columns</p>\n",
       "</div>"
      ],
      "text/plain": [
       "      lead_id language  watched_percentage  jnr_sm_id     lead_stage  \\\n",
       "0     USR1002   Telugu                  42  JNR1001MG     Lead Stage   \n",
       "1     USR1002   Telugu                  42  JNR1001MG     Lead Stage   \n",
       "2     USR1002   Telugu                  42  JNR1001MG      awareness   \n",
       "3     USR1002   Telugu                  42  JNR1001MG      awareness   \n",
       "4     USR1002   Telugu                  42  JNR1001MG  consideration   \n",
       "...       ...      ...                 ...        ...            ...   \n",
       "1227  USR1348  English                  72  JNR1012MG     Lead Stage   \n",
       "1228  USR1348  English                  72  JNR1012MG      awareness   \n",
       "1229  USR1348  English                  72  JNR1012MG      awareness   \n",
       "1230  USR1348  English                  72  JNR1012MG  consideration   \n",
       "1231  USR1348  English                  72  JNR1012MG  consideration   \n",
       "\n",
       "     call_status                 call_reason  \n",
       "0     successful           lead_introduction  \n",
       "1     successful               demo_schedule  \n",
       "2     successful          post_demo_followup  \n",
       "3     successful  followup_for_consideration  \n",
       "4     successful   interested_for_conversion  \n",
       "...          ...                         ...  \n",
       "1227  successful           demo_not_attended  \n",
       "1228  successful          post_demo_followup  \n",
       "1229  successful  followup_for_consideration  \n",
       "1230  successful     followup_for_conversion  \n",
       "1231  successful   interested_for_conversion  \n",
       "\n",
       "[1232 rows x 7 columns]"
      ]
     },
     "execution_count": 118,
     "metadata": {},
     "output_type": "execute_result"
    }
   ],
   "source": [
    "merged_interaction_demo = pd.merge(df2, df3, how='inner', on = 'lead_id')\n",
    "merged_interaction_demo"
   ]
  },
  {
   "cell_type": "code",
   "execution_count": 119,
   "id": "9591a488",
   "metadata": {},
   "outputs": [
    {
     "data": {
      "text/plain": [
       "call_status   call_reason               \n",
       "successful    demo_not_attended             155\n",
       "              demo_schedule                 192\n",
       "              followup_for_consideration     30\n",
       "              followup_for_conversion       101\n",
       "              interested_for_conversion     113\n",
       "              lead_introduction             192\n",
       "              post_demo_followup            192\n",
       "              successful_conversion          63\n",
       "unsuccessful  demo_not_attended              45\n",
       "              demo_schedule                  15\n",
       "              followup_for_consideration      5\n",
       "              followup_for_conversion        19\n",
       "              interested_for_conversion      18\n",
       "              lead_introduction              92\n",
       "dtype: int64"
      ]
     },
     "execution_count": 119,
     "metadata": {},
     "output_type": "execute_result"
    }
   ],
   "source": [
    "merged_interaction_demo.groupby([ 'call_status','call_reason']).size()"
   ]
  },
  {
   "cell_type": "code",
   "execution_count": 120,
   "id": "4810bfe3",
   "metadata": {},
   "outputs": [
    {
     "data": {
      "text/html": [
       "<div>\n",
       "<style scoped>\n",
       "    .dataframe tbody tr th:only-of-type {\n",
       "        vertical-align: middle;\n",
       "    }\n",
       "\n",
       "    .dataframe tbody tr th {\n",
       "        vertical-align: top;\n",
       "    }\n",
       "\n",
       "    .dataframe thead th {\n",
       "        text-align: right;\n",
       "    }\n",
       "</style>\n",
       "<table border=\"1\" class=\"dataframe\">\n",
       "  <thead>\n",
       "    <tr style=\"text-align: right;\">\n",
       "      <th></th>\n",
       "      <th>lead_id</th>\n",
       "      <th>Reason_for_not_interested</th>\n",
       "    </tr>\n",
       "  </thead>\n",
       "  <tbody>\n",
       "    <tr>\n",
       "      <th>count</th>\n",
       "      <td>294</td>\n",
       "      <td>294</td>\n",
       "    </tr>\n",
       "    <tr>\n",
       "      <th>unique</th>\n",
       "      <td>294</td>\n",
       "      <td>5</td>\n",
       "    </tr>\n",
       "    <tr>\n",
       "      <th>top</th>\n",
       "      <td>USR1001</td>\n",
       "      <td>Cannot afford</td>\n",
       "    </tr>\n",
       "    <tr>\n",
       "      <th>freq</th>\n",
       "      <td>1</td>\n",
       "      <td>99</td>\n",
       "    </tr>\n",
       "  </tbody>\n",
       "</table>\n",
       "</div>"
      ],
      "text/plain": [
       "        lead_id Reason_for_not_interested\n",
       "count       294                       294\n",
       "unique      294                         5\n",
       "top     USR1001             Cannot afford\n",
       "freq          1                        99"
      ]
     },
     "execution_count": 120,
     "metadata": {},
     "output_type": "execute_result"
    }
   ],
   "source": [
    "df4.describe()"
   ]
  },
  {
   "cell_type": "code",
   "execution_count": 123,
   "id": "f93c2607",
   "metadata": {},
   "outputs": [
    {
     "data": {
      "text/plain": [
       "4"
      ]
     },
     "execution_count": 123,
     "metadata": {},
     "output_type": "execute_result"
    }
   ],
   "source": [
    "L4['lead_stage'].unique()"
   ]
  },
  {
   "cell_type": "code",
   "execution_count": null,
   "id": "74e18414",
   "metadata": {},
   "outputs": [],
   "source": []
  }
 ],
 "metadata": {
  "kernelspec": {
   "display_name": "Python 3 (ipykernel)",
   "language": "python",
   "name": "python3"
  },
  "language_info": {
   "codemirror_mode": {
    "name": "ipython",
    "version": 3
   },
   "file_extension": ".py",
   "mimetype": "text/x-python",
   "name": "python",
   "nbconvert_exporter": "python",
   "pygments_lexer": "ipython3",
   "version": "3.9.12"
  }
 },
 "nbformat": 4,
 "nbformat_minor": 5
}
